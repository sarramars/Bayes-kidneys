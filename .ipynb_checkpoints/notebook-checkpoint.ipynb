{
 "cells": [
  {
   "cell_type": "markdown",
   "metadata": {},
   "source": [
    "# Kidney: Weibull regression with random efects\n"
   ]
  },
  {
   "cell_type": "markdown",
   "metadata": {},
   "source": [
    "## 1. Data\n",
    "\n",
    "Description : \n",
    "- $t_{ij}$ : is the survivor function for i = 1,...,38; j = 1,2 \n",
    "- $b_i$ : is an additive random effect for each patient in the exponent of the hazard \n",
    "- $AGE_{ij}$ :  \n",
    "- $SEX_i$ :\n",
    "- $Disease_{ik}(k = 1,2,3)$ "
   ]
  },
  {
   "cell_type": "code",
   "execution_count": 3,
   "metadata": {},
   "outputs": [],
   "source": [
    "import numpy as np\n",
    "import pandas as pd\n",
    "from tqdm import trange\n",
    "from typing import Tuple\n",
    "import matplotlib.pyplot as plt"
   ]
  },
  {
   "cell_type": "code",
   "execution_count": null,
   "metadata": {},
   "outputs": [],
   "source": [
    "NP = 38\n",
    "N_uc = 58\n",
    "N_rc = 18\n",
    "\n",
    "t_uc = np.asarray([8, 23, 22, 447, 30, 24, 7, 511, 53, 15, 7, 141, 96, 536, 17, \n",
    "185, 292, 15, 152, 402, 13, 39, 12, 132, 34, 2, 130, 27, 152, \n",
    "190, 119, 63, 16, 28, 318, 12, 245, 9, 30, 196, 154, 333, 38, \n",
    "177, 114, 562, 66, 40, 201, 156, 30, 25, 26, 58, 43, 30, 8, 78])\n",
    "\n",
    "t_rc = np.asarray([149, 22, 113, 5, 54, 6, 13, 8, 70, 25, 4, 159, 108, 24, 46, \n",
    "5, 16, 8])\n",
    "\n",
    "age_uc = np.asarray([28, 48, 32, 31, 10, 16, 51, 55, 69, 51, 44, 34, 35, 17, 60, \n",
    "60, 43, 44, 46, 30, 62, 42, 43, 10, 52, 53, 54, 56, 57, 44, 22, \n",
    "60, 28, 32, 32, 10, 17, 51, 56, 69, 52, 44, 35, 60, 44, 47, 63, \n",
    "43, 58, 10, 52, 53, 54, 56, 51, 57, 22, 52])\n",
    "\n",
    "age_rc = np.asarray([42, 53, 57, 50, 42, 52, 48, 34, 42, 17, 60, 53, 44, 30, 43, \n",
    "45, 42, 60])\n",
    "\n",
    "sex_uc = np.asarray([0, 1, 0, 1, 0, 1, 0, 1, 1, 0, 1, 1, 1, 1, 0, 1, 1, 1, 0, 1, \n",
    "1, 1, 0, 1, 1, 0, 1, 1, 1, 1, 1, 0, 0, 0, 1, 0, 1, 0, 1, 1, 0, \n",
    "1, 1, 1, 1, 0, 1, 0, 1, 1, 1, 0, 1, 1, 1, 1, 1, 1])\n",
    "\n",
    "sex_rc = np.asarray([1, 1, 1, 1, 1, 1, 1, 1, 1, 1, 0, 1, 1, 1, 1, 1, 1, 0])\n",
    "\n",
    "patient_uc = np.asarray([1, 2, 3, 4, 5, 6, 7, 8, 9, 10, 11, 12, 13, 15, \n",
    "16, 17, 18, 20, 21, 22, 23, 24, 25, 27, 28, 29, 30, \n",
    "31, 33, 34, 35, 38, 1, 3, 4, 5, 6, 7, 8, 9, 10, \n",
    "11, 13, 17, 18, 21, 23, 25, 26, 27, 28, 29, 30, 31, \n",
    "32, 33, 35, 37])\n",
    "\n",
    "patient_rc = np.asarray([14, 19, 26, 32, 36, 37, 2, 12, 14, 15, 16, 19, \n",
    "20, 22, 24, 34, 36, 38])\n",
    "\n",
    "disease_uc = np.asarray([1, 2, 1, 1, 1, 1, 2, 2, 3, 2, 3, 1, 3, 1, 3, 1, 1, 1, 4, 1, \n",
    "3, 3, 3, 2, 3, 2, 2, 3, 4, 2, 1, 4, 1, 1, 1, 1, 1, 2, 2, 3, 2, \n",
    "3, 3, 1, 1, 4, 3, 3, 3, 2, 3, 2, 2, 3, 3, 4, 1, 4])\n",
    "\n",
    "disease_rc = np.asarray([3, 2, 3, 3, 1, 4, 2, 1, 3, 1, 3, 2, 1, 1, 3, 2, 1, 4])\n"
   ]
  },
  {
   "cell_type": "markdown",
   "metadata": {},
   "source": [
    "# Model \n",
    "\n",
    "-   $t_{ij} \\sim \\text{Weibull}(r,\\mu_{ij})$\n",
    "- $\\text{log}(\\mu_{ij}) = \\alpha + \\beta_\\text{age}Age_{ij} +\\beta_\\text{sex}SEX_{i} + \\beta_\\text{disease1}DISEASE_{i1} + \\beta_\\text{disease2}DISEASE_{i2} + \\beta_\\text{disease3}DISEASE_{i3} + b_i$ \n",
    "\n",
    "# Random effects\n",
    "-   $b_i \\sim \\text{Normal}(0,\\tau)$.\n",
    "\n",
    "# Priors\n",
    "-  $alpha \\sim \\text{Normal}(0,10^{-4})$.\n",
    "-  $beta_{age} \\sim \\text{Normal}(0,10^{-4})$\n",
    "-  $beta_{sex} \\sim \\text{Normal}(0,10^{-4})$\n",
    "-  $beta_{disease1} = 0$ \n",
    "-  $beta_{diseasek} \\sim \\text{Normal}(0,10^{-4})$ for k=1,2,3 \n",
    "- $\\tau \\sim \\text{gamma}(10^{-3},10^{-3})$ \n",
    "- $\\sigma = \\frac{1}{\\sqrt(\\tau)}$ : s.d. of random effects"
   ]
  },
  {
   "cell_type": "markdown",
   "metadata": {},
   "source": []
  },
  {
   "cell_type": "markdown",
   "metadata": {},
   "source": []
  }
 ],
 "metadata": {
  "kernelspec": {
   "display_name": "Python 3",
   "language": "python",
   "name": "python3"
  },
  "language_info": {
   "codemirror_mode": {
    "name": "ipython",
    "version": 3
   },
   "file_extension": ".py",
   "mimetype": "text/x-python",
   "name": "python",
   "nbconvert_exporter": "python",
   "pygments_lexer": "ipython3",
   "version": "3.9.12"
  }
 },
 "nbformat": 4,
 "nbformat_minor": 2
}

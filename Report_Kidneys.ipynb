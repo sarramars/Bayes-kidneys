{
 "cells": [
  {
   "cell_type": "markdown",
   "id": "008ed03c",
   "metadata": {},
   "source": [
    "### Floran Defossez, Sarra Mars, Abdellah Laassairi, Sébastien Roig"
   ]
  },
  {
   "cell_type": "markdown",
   "id": "c4df5d74",
   "metadata": {},
   "source": [
    "# Report"
   ]
  },
  {
   "cell_type": "markdown",
   "id": "d212fe96",
   "metadata": {},
   "source": [
    "# Kidney: Weibull regression with random effects"
   ]
  },
  {
   "cell_type": "markdown",
   "id": "63a23ccb",
   "metadata": {},
   "source": [
    "## Presentation of the problem"
   ]
  },
  {
   "cell_type": "markdown",
   "id": "ee4708d7",
   "metadata": {},
   "source": [
    "The objective of this study is to analyze time to first and second recurrence of infection in kidney patients on dialysis. The analysis uses a Weibull regression model with random effects and includes age, sex, and underlying disease as risk variables. The aim is to identify the risk factors associated with recurrence of infection in kidney patients."
   ]
  },
  {
   "cell_type": "markdown",
   "id": "2931d6f7",
   "metadata": {},
   "source": [
    "# Model "
   ]
  },
  {
   "cell_type": "markdown",
   "id": "cd9b9a54",
   "metadata": {},
   "source": [
    "To model the time to first and second recurrence of infection $t_{i,j}$, we use a Weibull density : $$\n",
    "t_{i,j} \\sim Weibull(r, \\mu_{i,j})$$\n",
    "The Weibull density is particularly adapted in survival analysis, it is often used to model the average time of operation without failure of an appliance for example."
   ]
  },
  {
   "cell_type": "markdown",
   "id": "bbc6df02",
   "metadata": {},
   "source": [
    "<img src=\"Docs/Weibull density.png\" data-canonical-src=\"Docs/Weibull density.png\" width=\"400\" height=\"300\" />\n",
    "\n",
    "#### Figure 1: Weibull density for different parameters ($\\lambda$ scale parameter, $k$ shape parameter)"
   ]
  },
  {
   "cell_type": "markdown",
   "id": "0daa0000",
   "metadata": {},
   "source": [
    "It is important to note that there is right censorship and we model this censorship using a truncated Weibull.\n",
    "\n",
    "The shape parameter $r$ follows a gamma density and $\\mu_{i,j}$ is regressed from other parameters :\n",
    "$$ r \\sim Gamma(1, 0.0001)$$\n",
    "\n",
    "$$ log(\\mu_{i,j}) = \\alpha + \\beta_{age}AGE_{i,j} + \\beta_{sex}SEX_{i} + \\beta_{disease1}DISEASE_{i1} + \\beta_{disease2}DISEASE_{i2} + \\beta_{disease3}DISEASE_{i3} + b_i $$  \n",
    "Where SEXi is a 2 level factor and DISEASEik are dummy variables representing the 4-level factor for underlying disease. All the $\\beta_s$ model the different risk factors and this will the interesting part to look at for the results.\n",
    "\n",
    "To take into account the difference between the patients latent variables $b_i$ are added to the regression.\n",
    "$b_i$ is the random effect for each patient with :\n",
    "$$ b_i \\sim Normal(0, \\tau) $$\n",
    "\n",
    "All the regression parameters are modeled with non informative priors :\n",
    "$$ \\alpha \\sim Normal(0, 0.0001)$$\n",
    "\n",
    "$$ \\beta_{diseasek}, \\beta_{age}, \\beta_{sex} \\sim Normal(0, 0.0001) $$ \n",
    "for $k$ in $1,2,3$\n",
    "(The normal distributions are expressed with the precision parameter not variance).\n",
    "\n",
    "Finally, we have :\n",
    "$$ \\tau \\sim Gamma(0.0001, 0.0001)$$\n",
    "\n",
    "This gives the following directed acyclic graph :"
   ]
  },
  {
   "cell_type": "markdown",
   "id": "c0a03292",
   "metadata": {},
   "source": [
    "<img src=\"Docs/DAG.png\" data-canonical-src=\"Docs/DAG.png\" width=\"600\" height=\"400\" />\n",
    "\n",
    "#### Figure 2: DAG of our model"
   ]
  },
  {
   "cell_type": "markdown",
   "id": "b399edd7",
   "metadata": {},
   "source": [
    "# Gibbs sampler and Metropolis Hasting"
   ]
  },
  {
   "cell_type": "markdown",
   "id": "feca5810",
   "metadata": {},
   "source": [
    "We use a Gibbs sampler to simulate the laws associated with the model variables.\n",
    "\n",
    "To do this, we must first determine the conditional laws that will be used to update each variable:\n",
    "\n",
    "#### Conditional laws\n",
    "\n",
    "- law of $\\tau$ :\n",
    "\n",
    "$\\pi\\left(\\tau \\mid r, \\alpha,  \\beta_{age}, \\beta_{disease1,2,3}, \\beta_{sex}, \\textbf{b}\\right) \\propto \\pi(\\tau) \\cdot \\prod_{i=1}^{N} \\pi\\left(b_{i}\\mid \\tau)\\right. $\n",
    "\n",
    "$\\tau \\sim gamma(a,b)$ et $(b_i\\mid \\tau) \\sim Normal(0, \\tau)$.   \n",
    "\n",
    "The law of $\\tau$ is a conjugate prior so we can express easily the conditional law :   \n",
    "$\\tau \\mid r, \\alpha,  \\beta_{age}, \\beta_{disease1,2,3}, \\beta_{sex}, \\textbf{b} \\sim Gamma(a^*, b^*)$, with $a^* = a + \\frac{N}{2}$ and $b^* = b + \\frac{1}{2} \\cdot \\sum_{i=1}^{N} b_i^2$\n",
    "\n",
    "- law of $\\alpha$\n",
    "\n",
    "$\\pi\\left(\\alpha \\mid r, \\beta_{age}, \\beta_{disease1,2,3}, \\beta_{sex}, \\textbf{b}\\right) \\propto \\pi(\\alpha) \\cdot \\prod_{i,j} \\pi(t_{i,j} \\mid r, \\alpha,  \\beta_{age}, \\beta_{disease1,2,3}, \\beta_{sex}, b_i)$ \n",
    "\n",
    "With $t_{i,j} \\sim Weibull(r, \\mu_{i,j})$  if $t_{i,j}$ isn't a censored observation, and follows a truncated Weibull on the if it is a censored observation. The truncation is done at the value of the censored observation. $\\mu_{i,j}$ is computed as mentionned before.  \n",
    "\n",
    "$\\alpha \\sim Normal(0, 0.0001)$.\n",
    "\n",
    "- laws of $\\beta_{age}, \\beta_{disease1,2,3}, \\beta_{sex}$\n",
    "\n",
    "The same as $\\alpha$.\n",
    "\n",
    "- law of $r$\n",
    "\n",
    "$\\pi\\left(r \\mid \\alpha, \\beta_{age}, \\beta_{disease1,2,3}, \\beta_{sex}, \\textbf{b}\\right) \\propto \\pi(r) \\cdot \\prod_{i,j} \\pi(t_{i,j} \\mid r, \\alpha,  \\beta_{age}, \\beta_{disease1,2,3}, \\beta_{sex}, b_i)$ \n",
    "\n",
    "With $r \\sim Gamma(1, 0.0001)$.\n",
    "\n",
    "- law of $b_i$\n",
    "\n",
    "$\\pi\\left(b_i \\mid \\alpha, \\beta_{age}, \\beta_{disease1,2,3}, \\beta_{sex}, r \\right) \\propto \\pi(b_i \\mid \\tau) \\cdot \\prod_{j} \\pi(t_{i,j} \\mid r, \\alpha,  \\beta_{age}, \\beta_{disease1,2,3}, \\beta_{sex}, b_i)$\n",
    "\n",
    "With $b_i \\mid \\tau \\sim Normal(0, \\tau).$\n",
    "\n",
    "As we can't express in an easy way the conditional laws of $b_i$, $r$, $\\alpha$, $\\beta_{age}, \\beta_{disease1,2,3}, \\beta_{sex}$, we will use Metropolis hasting to simulate this laws.\n",
    "For these parameters, we make a random walk proposal where our proposition kernel is a centred normal distribution whose variance we will adjust.\n"
   ]
  },
  {
   "cell_type": "markdown",
   "id": "5d07cd9f",
   "metadata": {},
   "source": [
    "# Results"
   ]
  }
 ],
 "metadata": {
  "kernelspec": {
   "display_name": "Python 3.10 (tensorflow)",
   "language": "python",
   "name": "tensorflow"
  },
  "language_info": {
   "codemirror_mode": {
    "name": "ipython",
    "version": 3
   },
   "file_extension": ".py",
   "mimetype": "text/x-python",
   "name": "python",
   "nbconvert_exporter": "python",
   "pygments_lexer": "ipython3",
   "version": "3.10.9"
  }
 },
 "nbformat": 4,
 "nbformat_minor": 5
}
